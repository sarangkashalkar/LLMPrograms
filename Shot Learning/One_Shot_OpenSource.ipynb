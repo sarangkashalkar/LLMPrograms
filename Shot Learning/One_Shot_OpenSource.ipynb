{
 "cells": [
  {
   "cell_type": "code",
   "execution_count": null,
   "metadata": {
    "vscode": {
     "languageId": "plaintext"
    }
   },
   "outputs": [],
   "source": [
    "from transformers import pipeline\n",
    "\n",
    "def one_shot_huggingface(example, prompt):\n",
    "    system_prompt = \"You are a super smart analyst. Use the example provided to answer the question.\"\n",
    "    user_prompt = f\"{system_prompt}\\nExample: {example}\\nQuestion: {prompt}\"\n",
    "    \n",
    "    generator = pipeline('text-generation', model='gpt2')  # Replace with your chosen model\n",
    "    response = generator(f\"{user_prompt}\", max_length=150)\n",
    "    \n",
    "    return response[0]['generated_text']\n",
    "\n",
    "# Example usage\n",
    "example = \"The capital of France is Paris.\"\n",
    "prompt = \"What is the capital of Germany?\"\n",
    "print(one_shot_huggingface(example, prompt))\n"
   ]
  }
 ],
 "metadata": {
  "language_info": {
   "name": "python"
  }
 },
 "nbformat": 4,
 "nbformat_minor": 2
}
