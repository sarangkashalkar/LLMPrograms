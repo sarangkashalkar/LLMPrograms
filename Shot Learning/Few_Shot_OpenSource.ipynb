{
 "cells": [
  {
   "cell_type": "code",
   "execution_count": null,
   "metadata": {
    "vscode": {
     "languageId": "plaintext"
    }
   },
   "outputs": [],
   "source": [
    "from transformers import pipeline\n",
    "\n",
    "def few_shot_huggingface(examples, prompt):\n",
    "    system_prompt = \"You are a super smart analyst. Use the examples provided to answer the question.\"\n",
    "    examples_str = \"\\n\".join(examples)\n",
    "    user_prompt = f\"{system_prompt}\\nExamples:\\n{examples_str}\\nQuestion: {prompt}\"\n",
    "    \n",
    "    generator = pipeline('text-generation', model='gpt2')  # Replace with your chosen model\n",
    "    response = generator(f\"{user_prompt}\", max_length=150)\n",
    "    \n",
    "    return response[0]['generated_text']\n",
    "\n",
    "# Example usage\n",
    "examples = [\n",
    "    \"The capital of France is Paris.\",\n",
    "    \"The capital of Germany is Berlin.\",\n",
    "]\n",
    "prompt = \"What is the capital of Italy?\"\n",
    "print(few_shot_huggingface(examples, prompt))\n"
   ]
  }
 ],
 "metadata": {
  "language_info": {
   "name": "python"
  }
 },
 "nbformat": 4,
 "nbformat_minor": 2
}
