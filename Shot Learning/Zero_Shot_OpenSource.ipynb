{
 "cells": [
  {
   "cell_type": "code",
   "execution_count": null,
   "metadata": {
    "vscode": {
     "languageId": "plaintext"
    }
   },
   "outputs": [],
   "source": [
    "from transformers import pipeline\n",
    "\n",
    "def zero_shot_huggingface(prompt):\n",
    "    system_prompt = \"You are a super smart analyst. Answer the question based on your knowledge.\"\n",
    "    \n",
    "    generator = pipeline('text-generation', model='gpt2')  # Replace with your chosen model\n",
    "    response = generator(f\"{system_prompt}\\n{prompt}\", max_length=150)\n",
    "    \n",
    "    return response[0]['generated_text']\n",
    "\n",
    "# Example usage\n",
    "prompt = \"What is the capital of Australia?\"\n",
    "print(zero_shot_huggingface(prompt))\n"
   ]
  }
 ],
 "metadata": {
  "language_info": {
   "name": "python"
  }
 },
 "nbformat": 4,
 "nbformat_minor": 2
}
