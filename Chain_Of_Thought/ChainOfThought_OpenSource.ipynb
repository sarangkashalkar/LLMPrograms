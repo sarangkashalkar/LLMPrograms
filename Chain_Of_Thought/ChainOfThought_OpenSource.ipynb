{
 "cells": [
  {
   "cell_type": "code",
   "execution_count": null,
   "metadata": {
    "vscode": {
     "languageId": "plaintext"
    }
   },
   "outputs": [],
   "source": [
    "from transformers import pipeline\n",
    "\n",
    "def chain_of_thought_huggingface(question):\n",
    "   system_prompt=\"You are an expert problem solver.\"\n",
    "\n",
    "   user_prompt=f\"{system_prompt} Please think step by step.\\nQuestion: {question}\"\n",
    "\n",
    "   generator=pipeline('text-generation',model='gpt2') # Replace with your chosen model.\n",
    "   response=generator(user_prompt,max_length=150)\n",
    "\n",
    "   return response[0]['generated_text']\n",
    "\n",
    "# Example usage:\n",
    "question=\"If I have 10 apples and I give away 4, how many do I have left?\"\n",
    "print(chain_of_thought_huggingface(question))\n"
   ]
  }
 ],
 "metadata": {
  "language_info": {
   "name": "python"
  }
 },
 "nbformat": 4,
 "nbformat_minor": 2
}
