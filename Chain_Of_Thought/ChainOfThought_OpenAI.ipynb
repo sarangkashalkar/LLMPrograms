{
 "cells": [
  {
   "cell_type": "code",
   "execution_count": null,
   "metadata": {
    "vscode": {
     "languageId": "plaintext"
    }
   },
   "outputs": [],
   "source": [
    "import openai\n",
    "\n",
    "openai.api_key='YOUR_OPENAI_API_KEY'\n",
    "\n",
    "def chain_of_thought_openai(question):\n",
    "   system_prompt=\"You are an expert problem solver.\"\n",
    "\n",
    "   user_prompt=f\"{system_prompt} Please think step by step.\\nQuestion: {question}\"\n",
    "\n",
    "   response=openai.ChatCompletion.create(\n",
    "       model=\"gpt-3.5-turbo\",\n",
    "       messages=[\n",
    "           {\"role\":\"system\",\"content\":system_prompt},\n",
    "           {\"role\":\"user\",\"content\":user_prompt}\n",
    "       ]\n",
    "   )\n",
    "\n",
    "   return response['choices'][0]['message']['content']\n",
    "\n",
    "# Example usage:\n",
    "question=\"If I have 10 apples and I give away 4, how many do I have left?\"\n",
    "print(chain_of_thought_openai(question))\n"
   ]
  }
 ],
 "metadata": {
  "language_info": {
   "name": "python"
  }
 },
 "nbformat": 4,
 "nbformat_minor": 2
}
