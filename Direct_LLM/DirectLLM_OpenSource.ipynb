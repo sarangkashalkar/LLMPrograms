{
 "cells": [
  {
   "cell_type": "code",
   "execution_count": null,
   "metadata": {
    "vscode": {
     "languageId": "plaintext"
    }
   },
   "outputs": [],
   "source": [
    "from transformers import pipeline\n",
    "\n",
    "def direct_llm_huggingface(prompt):\n",
    "    system_prompt = \"You are a super smart analyst.\"\n",
    "    \n",
    "    generator = pipeline('text-generation', model='gpt2')  # Replace with your chosen model\n",
    "    response = generator(f\"{system_prompt}\\n{prompt}\", max_length=150)\n",
    "    \n",
    "    return response[0]['generated_text']\n",
    "\n",
    "# Example usage\n",
    "prompt = \"Generate a summary of the benefits of generative AI.\"\n",
    "print(direct_llm_huggingface(prompt))\n"
   ]
  }
 ],
 "metadata": {
  "language_info": {
   "name": "python"
  }
 },
 "nbformat": 4,
 "nbformat_minor": 2
}
