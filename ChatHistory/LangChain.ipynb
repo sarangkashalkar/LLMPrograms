{
 "cells": [
  {
   "cell_type": "code",
   "execution_count": null,
   "metadata": {
    "vscode": {
     "languageId": "plaintext"
    }
   },
   "outputs": [],
   "source": [
    "from langchain.chains import ConversationChain\n",
    "from langchain.memory import ConversationBufferMemory\n",
    "from langchain.llms import OpenAI\n",
    "\n",
    "# Initialize the LLM and memory\n",
    "llm = OpenAI(openai_api_key='YOUR_OPENAI_API_KEY')\n",
    "memory = ConversationBufferMemory()\n",
    "\n",
    "conversation_chain = ConversationChain(llm=llm, memory=memory)\n",
    "\n",
    "# Example usage\n",
    "response1 = conversation_chain(\"Hello!\")\n",
    "print(response1)\n",
    "\n",
    "response2 = conversation_chain(\"What can you tell me about natural language processing?\")\n",
    "print(response2)\n"
   ]
  }
 ],
 "metadata": {
  "language_info": {
   "name": "python"
  }
 },
 "nbformat": 4,
 "nbformat_minor": 2
}
