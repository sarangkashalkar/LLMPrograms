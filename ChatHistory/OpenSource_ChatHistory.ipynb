{
 "cells": [
  {
   "cell_type": "code",
   "execution_count": null,
   "metadata": {
    "vscode": {
     "languageId": "plaintext"
    }
   },
   "outputs": [],
   "source": [
    "from transformers import pipeline\n",
    "\n",
    "class ChatSession:\n",
    "    def __init__(self):\n",
    "        self.history = []  # Initialize an empty chat history\n",
    "        self.generator = pipeline('text-generation', model='gpt2')  # Replace with your chosen model\n",
    "\n",
    "    def send_message(self, user_message):\n",
    "        # Append user message to history\n",
    "        self.history.append({\"role\": \"user\", \"content\": user_message})\n",
    "        \n",
    "        # Create a prompt with the entire chat history\n",
    "        prompt = \"\\n\".join([f\"{msg['role']}: {msg['content']}\" for msg in self.history])\n",
    "        \n",
    "        # Generate a response from the model\n",
    "        response = self.generator(prompt, max_length=150)\n",
    "        \n",
    "        assistant_message = response[0]['generated_text'].split(\"user:\")[-1].strip()  # Extract assistant's response\n",
    "        \n",
    "        # Append assistant message to history\n",
    "        self.history.append({\"role\": \"assistant\", \"content\": assistant_message})\n",
    "        \n",
    "        return assistant_message\n",
    "\n",
    "# Example usage\n",
    "chat_session = ChatSession()\n",
    "print(chat_session.send_message(\"Hello!\"))\n",
    "print(chat_session.send_message(\"Can you explain machine learning?\"))\n"
   ]
  }
 ],
 "metadata": {
  "language_info": {
   "name": "python"
  }
 },
 "nbformat": 4,
 "nbformat_minor": 2
}
