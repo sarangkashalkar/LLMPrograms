{
 "cells": [
  {
   "cell_type": "code",
   "execution_count": null,
   "metadata": {
    "vscode": {
     "languageId": "plaintext"
    }
   },
   "outputs": [],
   "source": [
    "import openai\n",
    "\n",
    "# Set your OpenAI API key\n",
    "openai.api_key = 'YOUR_OPENAI_API_KEY'\n",
    "\n",
    "class ChatSession:\n",
    "    def __init__(self):\n",
    "        self.history = []  # Initialize an empty chat history\n",
    "\n",
    "    def send_message(self, user_message):\n",
    "        # Append user message to history\n",
    "        self.history.append({\"role\": \"user\", \"content\": user_message})\n",
    "        \n",
    "        # Create a prompt with the entire chat history\n",
    "        prompt = \"\\n\".join([f\"{msg['role']}: {msg['content']}\" for msg in self.history])\n",
    "        \n",
    "        # Get a response from OpenAI\n",
    "        response = openai.ChatCompletion.create(\n",
    "            model=\"gpt-3.5-turbo\",\n",
    "            messages=[{\"role\": \"system\", \"content\": \"You are a helpful assistant.\"}] + self.history\n",
    "        )\n",
    "        \n",
    "        assistant_message = response['choices'][0]['message']['content']\n",
    "        \n",
    "        # Append assistant message to history\n",
    "        self.history.append({\"role\": \"assistant\", \"content\": assistant_message})\n",
    "        \n",
    "        return assistant_message\n",
    "\n",
    "# Example usage\n",
    "chat_session = ChatSession()\n",
    "print(chat_session.send_message(\"Hello!\"))\n",
    "print(chat_session.send_message(\"Can you tell me about AI?\"))\n"
   ]
  }
 ],
 "metadata": {
  "language_info": {
   "name": "python"
  }
 },
 "nbformat": 4,
 "nbformat_minor": 2
}
