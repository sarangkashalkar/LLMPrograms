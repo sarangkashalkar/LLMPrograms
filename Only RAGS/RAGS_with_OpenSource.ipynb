{
 "cells": [
  {
   "cell_type": "code",
   "execution_count": null,
   "metadata": {
    "vscode": {
     "languageId": "plaintext"
    }
   },
   "outputs": [],
   "source": [
    "from transformers import pipeline\n",
    "\n",
    "def rag_with_huggingface(query, context):\n",
    "    system_prompt = \"You are a super smart analyst. Use the context provided to answer the query.\"\n",
    "    user_prompt = f\"{system_prompt}\\nContext: {context}\\nQuery: {query}\"\n",
    "    \n",
    "    generator = pipeline('text-generation', model='gpt2')  # Replace with your chosen model\n",
    "    response = generator(user_prompt, max_length=150)\n",
    "    \n",
    "    return response[0]['generated_text']\n",
    "\n",
    "# Example usage\n",
    "context = \"The capital of France is Paris.\"\n",
    "query = \"What is the capital of France?\"\n",
    "print(rag_with_huggingface(query, context))\n"
   ]
  }
 ],
 "metadata": {
  "language_info": {
   "name": "python"
  }
 },
 "nbformat": 4,
 "nbformat_minor": 2
}
