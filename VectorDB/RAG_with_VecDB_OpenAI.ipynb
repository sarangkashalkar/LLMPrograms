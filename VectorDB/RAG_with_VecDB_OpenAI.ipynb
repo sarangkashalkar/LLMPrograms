{
 "cells": [
  {
   "cell_type": "code",
   "execution_count": null,
   "metadata": {
    "vscode": {
     "languageId": "plaintext"
    }
   },
   "outputs": [],
   "source": [
    "import openai\n",
    "import numpy as np\n",
    "from sklearn.metrics.pairwise import cosine_similarity\n",
    "\n",
    "# Set your OpenAI API key\n",
    "openai.api_key = 'YOUR_OPENAI_API_KEY'\n",
    "\n",
    "# Simulated vector database (for demonstration)\n",
    "vector_db = {\n",
    "    \"1\": {\"text\": \"The capital of France is Paris.\", \"vector\": np.array([0.1, 0.2, 0.3])},\n",
    "    \"2\": {\"text\": \"The capital of Germany is Berlin.\", \"vector\": np.array([0.4, 0.5, 0.6])},\n",
    "}\n",
    "\n",
    "def find_similar_context(query_vector):\n",
    "    # Find the most similar context in the vector database\n",
    "    similarities = {id: cosine_similarity([data[\"vector\"]], [query_vector])[0][0] for id, data in vector_db.items()}\n",
    "    best_match_id = max(similarities, key=similarities.get)\n",
    "    return vector_db[best_match_id][\"text\"]\n",
    "\n",
    "def rag_with_openai(query):\n",
    "    # Here we simulate generating a query vector (in practice, use an embedding model)\n",
    "    query_vector = np.array([0.15, 0.25, 0.35])  # Example query vector\n",
    "\n",
    "    # Retrieve the most similar context\n",
    "    context = find_similar_context(query_vector)\n",
    "\n",
    "    system_prompt = \"You are a super smart analyst. Use the context provided to answer the query.\"\n",
    "    user_prompt = f\"{system_prompt}\\nContext: {context}\\nQuery: {query}\"\n",
    "    \n",
    "    response = openai.ChatCompletion.create(\n",
    "        model=\"gpt-3.5-turbo\",\n",
    "        messages=[\n",
    "            {\"role\": \"system\", \"content\": system_prompt},\n",
    "            {\"role\": \"user\", \"content\": user_prompt}\n",
    "        ]\n",
    "    )\n",
    "    \n",
    "    return response['choices'][0]['message']['content']\n",
    "\n",
    "# Example usage\n",
    "query = \"What is the capital of France?\"\n",
    "print(rag_with_openai(query))\n"
   ]
  }
 ],
 "metadata": {
  "language_info": {
   "name": "python"
  }
 },
 "nbformat": 4,
 "nbformat_minor": 2
}
