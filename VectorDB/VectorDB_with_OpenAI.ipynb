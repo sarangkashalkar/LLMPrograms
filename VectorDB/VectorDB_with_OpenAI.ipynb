{
 "cells": [
  {
   "cell_type": "code",
   "execution_count": null,
   "metadata": {
    "vscode": {
     "languageId": "plaintext"
    }
   },
   "outputs": [],
   "source": [
    "import openai\n",
    "\n",
    "# Set your OpenAI API key\n",
    "openai.api_key = 'YOUR_OPENAI_API_KEY'\n",
    "\n",
    "# Simulated vector database (for demonstration)\n",
    "vector_db = {\n",
    "    \"1\": {\"text\": \"The capital of France is Paris.\"},\n",
    "    \"2\": {\"text\": \"The capital of Germany is Berlin.\"},\n",
    "}\n",
    "\n",
    "def query_vector_db_without_rag(query):\n",
    "    # Directly use the input query to get a response without retrieval\n",
    "    system_prompt = \"You are a super smart analyst.\"\n",
    "    \n",
    "    response = openai.ChatCompletion.create(\n",
    "        model=\"gpt-3.5-turbo\",\n",
    "        messages=[\n",
    "            {\"role\": \"system\", \"content\": system_prompt},\n",
    "            {\"role\": \"user\", \"content\": f\"{system_prompt}\\nQuery: {query}\"}\n",
    "        ]\n",
    "    )\n",
    "    \n",
    "    return response['choices'][0]['message']['content']\n",
    "\n",
    "# Example usage\n",
    "query = \"What is the capital of Germany?\"\n",
    "print(query_vector_db_without_rag(query))\n"
   ]
  }
 ],
 "metadata": {
  "language_info": {
   "name": "python"
  }
 },
 "nbformat": 4,
 "nbformat_minor": 2
}
