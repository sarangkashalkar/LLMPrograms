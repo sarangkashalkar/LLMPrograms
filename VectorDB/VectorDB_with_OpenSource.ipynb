{
 "cells": [
  {
   "cell_type": "code",
   "execution_count": null,
   "metadata": {
    "vscode": {
     "languageId": "plaintext"
    }
   },
   "outputs": [],
   "source": [
    "from transformers import pipeline\n",
    "\n",
    "# Simulated vector database (for demonstration)\n",
    "vector_db = {\n",
    "    \"1\": {\"text\": \"The capital of France is Paris.\"},\n",
    "    \"2\": {\"text\": \"The capital of Germany is Berlin.\"},\n",
    "}\n",
    "\n",
    "def query_vector_db_without_rag(query):\n",
    "    system_prompt = \"You are a super smart analyst.\"\n",
    "    \n",
    "    generator = pipeline('text-generation', model='gpt2')  # Replace with your chosen model\n",
    "    response = generator(f\"{system_prompt}\\nQuery: {query}\", max_length=150)\n",
    "    \n",
    "    return response[0]['generated_text']\n",
    "\n",
    "# Example usage\n",
    "query = \"What is the capital of Germany?\"\n",
    "print(query_vector_db_without_rag(query))\n"
   ]
  }
 ],
 "metadata": {
  "language_info": {
   "name": "python"
  }
 },
 "nbformat": 4,
 "nbformat_minor": 2
}
