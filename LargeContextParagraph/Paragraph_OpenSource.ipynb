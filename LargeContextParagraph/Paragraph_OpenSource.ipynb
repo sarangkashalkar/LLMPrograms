{
 "cells": [
  {
   "cell_type": "code",
   "execution_count": null,
   "metadata": {
    "vscode": {
     "languageId": "plaintext"
    }
   },
   "outputs": [],
   "source": [
    "from transformers import pipeline\n",
    "\n",
    "def document_query_huggingface(document, query):\n",
    "    system_prompt = \"You are a super smart analyst. Answer based on the document provided.\"\n",
    "    user_prompt = f\"{system_prompt}\\nDocument: {document}\\nQuery: {query}\"\n",
    "    \n",
    "    generator = pipeline('text-generation', model='gpt2')  # Replace with your chosen model\n",
    "    response = generator(f\"{user_prompt}\", max_length=150)\n",
    "    \n",
    "    return response[0]['generated_text']\n",
    "\n",
    "# Example usage\n",
    "document = \"Artificial Intelligence is transforming industries.\"\n",
    "query = \"What is AI transforming?\"\n",
    "print(document_query_huggingface(document, query))\n"
   ]
  }
 ],
 "metadata": {
  "language_info": {
   "name": "python"
  }
 },
 "nbformat": 4,
 "nbformat_minor": 2
}
